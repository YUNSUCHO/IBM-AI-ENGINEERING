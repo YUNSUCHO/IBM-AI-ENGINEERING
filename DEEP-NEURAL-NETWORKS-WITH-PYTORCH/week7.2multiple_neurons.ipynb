{
 "cells": [
  {
   "cell_type": "code",
   "execution_count": 6,
   "metadata": {},
   "outputs": [],
   "source": [
    "import torch\n",
    "import numpy as np\n",
    "import matplotlib.pyplot as plt\n",
    "from torch import nn, optim\n",
    "%matplotlib inline\n",
    "import torch.nn.functional as F\n",
    "from torch.utils.data import Dataset, DataLoader"
   ]
  },
  {
   "cell_type": "code",
   "execution_count": 7,
   "metadata": {},
   "outputs": [],
   "source": [
    "#Define plotting function\n",
    "\n",
    "def get_hist(model, data_set):\n",
    "    activations = model.activation(data_set.x)\n",
    "    for i, activation in enumerate(activations):\n",
    "        plt.hist(activation.numpy(), 4, density = True)\n",
    "        plt.title(\"Activation layer\" + str(i + 1))\n",
    "        plt.xlabel(\"Activation\")\n",
    "        plt.ylabel(\"Prediction\")\n",
    "        plt.legend()\n",
    "        plt.show()"
   ]
  },
  {
   "cell_type": "code",
   "execution_count": 8,
   "metadata": {},
   "outputs": [],
   "source": [
    "def PlotStuff(X, Y, model = None, leg = False):\n",
    "    \n",
    "    plt.plot(X[Y==0].numpy(), Y[Y==0].numpy(), 'or', label = 'training points y = 0')\n",
    "    plt.plot(X[Y==1].numpy(), Y[Y==1].numpy(), 'ob', label = 'training points y = 1')\n",
    "    \n",
    "    if model != None:\n",
    "        plt.plot(X.numpy(), model(X).detach().numpy(), label = 'Neural network')\n",
    "    \n",
    "    plt.legend()\n",
    "    plt.show()"
   ]
  },
  {
   "cell_type": "code",
   "execution_count": 9,
   "metadata": {},
   "outputs": [],
   "source": [
    "#Define the class to get our data\n",
    "#[r:c]\n",
    "class data(Dataset):\n",
    "    def __init__(self):\n",
    "        self.x = torch.linspace(-20, 20, 100).view(-1, 1)\n",
    "        self.y = torch.zeros(self.x.shape[0])\n",
    "        self.y[(self.x[:,0] > -10) & (self.x[:,0] < -5)] = 1\n",
    "        self.y[(self.x[:,0] > 5) & (slef.x[:0] < 10)] = 1\n",
    "        self.y = self.y.view(-1, 1) ##??\n",
    "        self.len = self.x.shape[0]\n",
    "        \n",
    "    def __getitem__(self, index):\n",
    "        return self.x[index], self.y[index]\n",
    "\n",
    "    def __len__(self):\n",
    "        return self.len\n",
    "        "
   ]
  },
  {
   "cell_type": "code",
   "execution_count": 10,
   "metadata": {},
   "outputs": [],
   "source": [
    "#Define the class for creating our model\n",
    "\n",
    "class Net(nn.Module):\n",
    "    def __init__(self, D_in, H, D_out):\n",
    "        super(Net, self).__init__()\n",
    "        self.linear1 = nn.Linear(D_in, H)\n",
    "        self.linear2 = nn.Linear(H, D_out)\n",
    "        \n",
    "    def forward(self, x):\n",
    "        x = torch.sigmoid(self.linear1(x))\n",
    "        x = torch.sigmoid(self.linear2(x))\n",
    "        return x"
   ]
  },
  {
   "cell_type": "code",
   "execution_count": null,
   "metadata": {},
   "outputs": [],
   "source": [
    "def train(data_set, model, criterion, train_loader, optimizer, epochs = 5, plot_number = 10):\n",
    "    cost = []\n",
    "    \n",
    "    for epoch in range(epochs):\n",
    "        total = 0\n",
    "        for x, y in train_loader:\n",
    "            optimizer.zero_grad()\n",
    "            \n",
    "            yhat = model(x)\n",
    "            loss = criterion(yhat, y)\n",
    "            \n",
    "            optimizer.zero_grad()\n",
    "            loss.backward()\n",
    "            optimizer.step()\n",
    "            \n",
    "            total+=loss.item()\n",
    "            \n",
    "        if epoch%plot_number ==0"
   ]
  }
 ],
 "metadata": {
  "kernelspec": {
   "display_name": "Python",
   "language": "python",
   "name": "conda-env-python-py"
  },
  "language_info": {
   "codemirror_mode": {
    "name": "ipython",
    "version": 3
   },
   "file_extension": ".py",
   "mimetype": "text/x-python",
   "name": "python",
   "nbconvert_exporter": "python",
   "pygments_lexer": "ipython3",
   "version": "3.6.11"
  }
 },
 "nbformat": 4,
 "nbformat_minor": 4
}
