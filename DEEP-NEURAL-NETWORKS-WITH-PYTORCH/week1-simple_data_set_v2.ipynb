{
 "cells": [
  {
   "cell_type": "code",
   "execution_count": 2,
   "metadata": {},
   "outputs": [],
   "source": [
    "#Preparation"
   ]
  },
  {
   "cell_type": "code",
   "execution_count": 5,
   "metadata": {},
   "outputs": [
    {
     "data": {
      "text/plain": [
       "<torch._C.Generator at 0x7fd99003f0d0>"
      ]
     },
     "execution_count": 5,
     "metadata": {},
     "output_type": "execute_result"
    }
   ],
   "source": [
    "import torch\n",
    "from torch.utils.data import Dataset\n",
    "torch.manual_seed(1)\n",
    "#Forcing the random function to give the same number whenever we try to compile it"
   ]
  },
  {
   "cell_type": "code",
   "execution_count": 6,
   "metadata": {},
   "outputs": [],
   "source": [
    "#Simple dataset"
   ]
  },
  {
   "cell_type": "code",
   "execution_count": 17,
   "metadata": {},
   "outputs": [],
   "source": [
    "class toy_set(Dataset):\n",
    "    #Construct with default values\n",
    "    def __init__(self, length = 100, transform = None):\n",
    "        self.len = length\n",
    "        self.x = 2 * torch.ones(length, 2)\n",
    "        self.y = torch.ones(length, 1)\n",
    "        self.transform = transform\n",
    "        \n",
    "    #Getter\n",
    "    def __getitem__(self, index):\n",
    "        sample = self.x[index], self.y[index]\n",
    "        if self.transform:\n",
    "            sample = self.transform(sample)\n",
    "        return sample\n",
    "    \n",
    "    #Get length\n",
    "    def __len__(self):\n",
    "        return self.len"
   ]
  },
  {
   "cell_type": "code",
   "execution_count": 18,
   "metadata": {},
   "outputs": [
    {
     "name": "stdout",
     "output_type": "stream",
     "text": [
      "Our toy_set object:  <__main__.toy_set object at 0x7fd8bd91f9e8>\n",
      "Value on index 0 of our toy_set object:  (tensor([2., 2.]), tensor([1.]))\n",
      "Our toy_set length:  100\n"
     ]
    }
   ],
   "source": [
    "#Create Dataset object. Find out the value on index 1 and find out the length of Dataset object.\n",
    "\n",
    "our_dataset = toy_set()\n",
    "print(\"Our toy_set object: \", our_dataset)\n",
    "print(\"Value on index 0 of our toy_set object: \", our_dataset[0])\n",
    "print(\"Our toy_set length: \", len(our_dataset))"
   ]
  },
  {
   "cell_type": "code",
   "execution_count": 19,
   "metadata": {},
   "outputs": [
    {
     "name": "stdout",
     "output_type": "stream",
     "text": [
      "Index:  0 \n",
      " x:  tensor([2., 2.]) y:  tensor([1.])\n",
      "Index:  1 \n",
      " x:  tensor([2., 2.]) y:  tensor([1.])\n",
      "Index:  2 \n",
      " x:  tensor([2., 2.]) y:  tensor([1.])\n"
     ]
    }
   ],
   "source": [
    "#Use loop to print out first 3 elements in dataset\n",
    "\n",
    "for i in range(3):\n",
    "    x, y = our_dataset[i]\n",
    "    print(\"Index: \", i, '\\n', 'x: ', x, 'y: ', y)"
   ]
  },
  {
   "cell_type": "code",
   "execution_count": 21,
   "metadata": {},
   "outputs": [
    {
     "name": "stdout",
     "output_type": "stream",
     "text": [
      "x:  tensor([1.]) \n",
      " y:  tensor([1.])\n",
      "x:  tensor([1.]) \n",
      " y:  tensor([1.])\n",
      "x:  tensor([1.]) \n",
      " y:  tensor([1.])\n",
      "x:  tensor([1.]) \n",
      " y:  tensor([1.])\n",
      "x:  tensor([1.]) \n",
      " y:  tensor([1.])\n",
      "x:  tensor([1.]) \n",
      " y:  tensor([1.])\n",
      "x:  tensor([1.]) \n",
      " y:  tensor([1.])\n",
      "x:  tensor([1.]) \n",
      " y:  tensor([1.])\n",
      "x:  tensor([1.]) \n",
      " y:  tensor([1.])\n",
      "x:  tensor([1.]) \n",
      " y:  tensor([1.])\n",
      "x:  tensor([1.]) \n",
      " y:  tensor([1.])\n",
      "x:  tensor([1.]) \n",
      " y:  tensor([1.])\n",
      "x:  tensor([1.]) \n",
      " y:  tensor([1.])\n",
      "x:  tensor([1.]) \n",
      " y:  tensor([1.])\n",
      "x:  tensor([1.]) \n",
      " y:  tensor([1.])\n",
      "x:  tensor([1.]) \n",
      " y:  tensor([1.])\n",
      "x:  tensor([1.]) \n",
      " y:  tensor([1.])\n",
      "x:  tensor([1.]) \n",
      " y:  tensor([1.])\n",
      "x:  tensor([1.]) \n",
      " y:  tensor([1.])\n",
      "x:  tensor([1.]) \n",
      " y:  tensor([1.])\n",
      "x:  tensor([1.]) \n",
      " y:  tensor([1.])\n",
      "x:  tensor([1.]) \n",
      " y:  tensor([1.])\n",
      "x:  tensor([1.]) \n",
      " y:  tensor([1.])\n",
      "x:  tensor([1.]) \n",
      " y:  tensor([1.])\n",
      "x:  tensor([1.]) \n",
      " y:  tensor([1.])\n",
      "x:  tensor([1.]) \n",
      " y:  tensor([1.])\n",
      "x:  tensor([1.]) \n",
      " y:  tensor([1.])\n",
      "x:  tensor([1.]) \n",
      " y:  tensor([1.])\n",
      "x:  tensor([1.]) \n",
      " y:  tensor([1.])\n",
      "x:  tensor([1.]) \n",
      " y:  tensor([1.])\n",
      "x:  tensor([1.]) \n",
      " y:  tensor([1.])\n",
      "x:  tensor([1.]) \n",
      " y:  tensor([1.])\n",
      "x:  tensor([1.]) \n",
      " y:  tensor([1.])\n",
      "x:  tensor([1.]) \n",
      " y:  tensor([1.])\n",
      "x:  tensor([1.]) \n",
      " y:  tensor([1.])\n",
      "x:  tensor([1.]) \n",
      " y:  tensor([1.])\n",
      "x:  tensor([1.]) \n",
      " y:  tensor([1.])\n",
      "x:  tensor([1.]) \n",
      " y:  tensor([1.])\n",
      "x:  tensor([1.]) \n",
      " y:  tensor([1.])\n",
      "x:  tensor([1.]) \n",
      " y:  tensor([1.])\n",
      "x:  tensor([1.]) \n",
      " y:  tensor([1.])\n",
      "x:  tensor([1.]) \n",
      " y:  tensor([1.])\n",
      "x:  tensor([1.]) \n",
      " y:  tensor([1.])\n",
      "x:  tensor([1.]) \n",
      " y:  tensor([1.])\n",
      "x:  tensor([1.]) \n",
      " y:  tensor([1.])\n",
      "x:  tensor([1.]) \n",
      " y:  tensor([1.])\n",
      "x:  tensor([1.]) \n",
      " y:  tensor([1.])\n",
      "x:  tensor([1.]) \n",
      " y:  tensor([1.])\n",
      "x:  tensor([1.]) \n",
      " y:  tensor([1.])\n",
      "x:  tensor([1.]) \n",
      " y:  tensor([1.])\n",
      "x:  tensor([1.]) \n",
      " y:  tensor([1.])\n",
      "x:  tensor([1.]) \n",
      " y:  tensor([1.])\n",
      "x:  tensor([1.]) \n",
      " y:  tensor([1.])\n",
      "x:  tensor([1.]) \n",
      " y:  tensor([1.])\n",
      "x:  tensor([1.]) \n",
      " y:  tensor([1.])\n",
      "x:  tensor([1.]) \n",
      " y:  tensor([1.])\n",
      "x:  tensor([1.]) \n",
      " y:  tensor([1.])\n",
      "x:  tensor([1.]) \n",
      " y:  tensor([1.])\n",
      "x:  tensor([1.]) \n",
      " y:  tensor([1.])\n",
      "x:  tensor([1.]) \n",
      " y:  tensor([1.])\n",
      "x:  tensor([1.]) \n",
      " y:  tensor([1.])\n",
      "x:  tensor([1.]) \n",
      " y:  tensor([1.])\n",
      "x:  tensor([1.]) \n",
      " y:  tensor([1.])\n",
      "x:  tensor([1.]) \n",
      " y:  tensor([1.])\n",
      "x:  tensor([1.]) \n",
      " y:  tensor([1.])\n",
      "x:  tensor([1.]) \n",
      " y:  tensor([1.])\n",
      "x:  tensor([1.]) \n",
      " y:  tensor([1.])\n",
      "x:  tensor([1.]) \n",
      " y:  tensor([1.])\n",
      "x:  tensor([1.]) \n",
      " y:  tensor([1.])\n",
      "x:  tensor([1.]) \n",
      " y:  tensor([1.])\n",
      "x:  tensor([1.]) \n",
      " y:  tensor([1.])\n",
      "x:  tensor([1.]) \n",
      " y:  tensor([1.])\n",
      "x:  tensor([1.]) \n",
      " y:  tensor([1.])\n",
      "x:  tensor([1.]) \n",
      " y:  tensor([1.])\n",
      "x:  tensor([1.]) \n",
      " y:  tensor([1.])\n",
      "x:  tensor([1.]) \n",
      " y:  tensor([1.])\n",
      "x:  tensor([1.]) \n",
      " y:  tensor([1.])\n",
      "x:  tensor([1.]) \n",
      " y:  tensor([1.])\n",
      "x:  tensor([1.]) \n",
      " y:  tensor([1.])\n",
      "x:  tensor([1.]) \n",
      " y:  tensor([1.])\n",
      "x:  tensor([1.]) \n",
      " y:  tensor([1.])\n",
      "x:  tensor([1.]) \n",
      " y:  tensor([1.])\n",
      "x:  tensor([1.]) \n",
      " y:  tensor([1.])\n",
      "x:  tensor([1.]) \n",
      " y:  tensor([1.])\n",
      "x:  tensor([1.]) \n",
      " y:  tensor([1.])\n",
      "x:  tensor([1.]) \n",
      " y:  tensor([1.])\n",
      "x:  tensor([1.]) \n",
      " y:  tensor([1.])\n",
      "x:  tensor([1.]) \n",
      " y:  tensor([1.])\n",
      "x:  tensor([1.]) \n",
      " y:  tensor([1.])\n",
      "x:  tensor([1.]) \n",
      " y:  tensor([1.])\n",
      "x:  tensor([1.]) \n",
      " y:  tensor([1.])\n",
      "x:  tensor([1.]) \n",
      " y:  tensor([1.])\n",
      "x:  tensor([1.]) \n",
      " y:  tensor([1.])\n",
      "x:  tensor([1.]) \n",
      " y:  tensor([1.])\n",
      "x:  tensor([1.]) \n",
      " y:  tensor([1.])\n",
      "x:  tensor([1.]) \n",
      " y:  tensor([1.])\n",
      "x:  tensor([1.]) \n",
      " y:  tensor([1.])\n",
      "x:  tensor([1.]) \n",
      " y:  tensor([1.])\n",
      "x:  tensor([1.]) \n",
      " y:  tensor([1.])\n",
      "x:  tensor([1.]) \n",
      " y:  tensor([1.])\n"
     ]
    }
   ],
   "source": [
    "for x, y in our_dataset:\n",
    "    print('x: ', y,'\\n', 'y: ', y)"
   ]
  },
  {
   "cell_type": "code",
   "execution_count": 22,
   "metadata": {},
   "outputs": [
    {
     "name": "stdout",
     "output_type": "stream",
     "text": [
      "Length of my_dataset:  50\n"
     ]
    }
   ],
   "source": [
    "my_dataset = toy_set(length=50)\n",
    "print(\"Length of my_dataset: \", len(my_dataset))"
   ]
  },
  {
   "cell_type": "code",
   "execution_count": 23,
   "metadata": {},
   "outputs": [],
   "source": [
    "#Transform\n",
    "#We can also create class for transforming the data.\n",
    "#In this case, we will try to add 1 to x and multiply y by 2"
   ]
  },
  {
   "cell_type": "code",
   "execution_count": 26,
   "metadata": {},
   "outputs": [],
   "source": [
    "#Create transform class add_mult\n",
    "\n",
    "class add_mult(object):\n",
    "    \n",
    "    #Constructor\n",
    "    def __init__(self, addx =1, muly = 2):\n",
    "        self.addx = addx\n",
    "        self.muly = muly\n",
    "    \n",
    "    #Executor\n",
    "    def __call__(self, sample):\n",
    "        x = sample[0]\n",
    "        y = sample[1]\n",
    "        \n",
    "        x = x + self.addx\n",
    "        y = y * self.muly\n",
    "        sample = x, y\n",
    "        \n",
    "        return sample"
   ]
  },
  {
   "cell_type": "code",
   "execution_count": 27,
   "metadata": {},
   "outputs": [],
   "source": [
    "#Create transform object.\n",
    "#Create an add_mult transform onject and an toy_set object\n",
    "\n",
    "a_m = add_mult()\n",
    "data_set = toy_set()"
   ]
  },
  {
   "cell_type": "code",
   "execution_count": 30,
   "metadata": {},
   "outputs": [
    {
     "name": "stdout",
     "output_type": "stream",
     "text": [
      "Index:  0 Original x:  tensor([2., 2.]) Original y:  tensor([1.])\n",
      "Index:  0 Transformed x:  tensor([3., 3.]) Transformed y:  tensor([2.])\n",
      "Index:  1 Original x:  tensor([2., 2.]) Original y:  tensor([1.])\n",
      "Index:  1 Transformed x:  tensor([3., 3.]) Transformed y:  tensor([2.])\n",
      "Index:  2 Original x:  tensor([2., 2.]) Original y:  tensor([1.])\n",
      "Index:  2 Transformed x:  tensor([3., 3.]) Transformed y:  tensor([2.])\n",
      "Index:  3 Original x:  tensor([2., 2.]) Original y:  tensor([1.])\n",
      "Index:  3 Transformed x:  tensor([3., 3.]) Transformed y:  tensor([2.])\n",
      "Index:  4 Original x:  tensor([2., 2.]) Original y:  tensor([1.])\n",
      "Index:  4 Transformed x:  tensor([3., 3.]) Transformed y:  tensor([2.])\n",
      "Index:  5 Original x:  tensor([2., 2.]) Original y:  tensor([1.])\n",
      "Index:  5 Transformed x:  tensor([3., 3.]) Transformed y:  tensor([2.])\n",
      "Index:  6 Original x:  tensor([2., 2.]) Original y:  tensor([1.])\n",
      "Index:  6 Transformed x:  tensor([3., 3.]) Transformed y:  tensor([2.])\n",
      "Index:  7 Original x:  tensor([2., 2.]) Original y:  tensor([1.])\n",
      "Index:  7 Transformed x:  tensor([3., 3.]) Transformed y:  tensor([2.])\n",
      "Index:  8 Original x:  tensor([2., 2.]) Original y:  tensor([1.])\n",
      "Index:  8 Transformed x:  tensor([3., 3.]) Transformed y:  tensor([2.])\n",
      "Index:  9 Original x:  tensor([2., 2.]) Original y:  tensor([1.])\n",
      "Index:  9 Transformed x:  tensor([3., 3.]) Transformed y:  tensor([2.])\n"
     ]
    }
   ],
   "source": [
    "#Use loop to print out first 10 elements in dataset\n",
    "\n",
    "for i in range(10):\n",
    "    x, y = data_set[i]\n",
    "    print(\"Index: \", i, \"Original x: \", x, \"Original y: \", y)\n",
    "    x_, y_ = a_m(data_set[i])\n",
    "    print(\"Index: \", i, \"Transformed x: \", x_, \"Transformed y: \", y_)"
   ]
  },
  {
   "cell_type": "code",
   "execution_count": 31,
   "metadata": {},
   "outputs": [],
   "source": [
    "#Create a new data_set object with add_mult object as transform\n",
    "cust_data_set = toy_set(transform = a_m)"
   ]
  },
  {
   "cell_type": "code",
   "execution_count": 32,
   "metadata": {},
   "outputs": [
    {
     "name": "stdout",
     "output_type": "stream",
     "text": [
      "Index:  0 Original x:  tensor([2., 2.]) Original y:  tensor([1.])\n",
      "Index:  0 Transformed x:  tensor([3., 3.]) Transformed y:  tensor([2.])\n",
      "Index:  1 Original x:  tensor([2., 2.]) Original y:  tensor([1.])\n",
      "Index:  1 Transformed x:  tensor([3., 3.]) Transformed y:  tensor([2.])\n",
      "Index:  2 Original x:  tensor([2., 2.]) Original y:  tensor([1.])\n",
      "Index:  2 Transformed x:  tensor([3., 3.]) Transformed y:  tensor([2.])\n",
      "Index:  3 Original x:  tensor([2., 2.]) Original y:  tensor([1.])\n",
      "Index:  3 Transformed x:  tensor([3., 3.]) Transformed y:  tensor([2.])\n",
      "Index:  4 Original x:  tensor([2., 2.]) Original y:  tensor([1.])\n",
      "Index:  4 Transformed x:  tensor([3., 3.]) Transformed y:  tensor([2.])\n",
      "Index:  5 Original x:  tensor([2., 2.]) Original y:  tensor([1.])\n",
      "Index:  5 Transformed x:  tensor([3., 3.]) Transformed y:  tensor([2.])\n",
      "Index:  6 Original x:  tensor([2., 2.]) Original y:  tensor([1.])\n",
      "Index:  6 Transformed x:  tensor([3., 3.]) Transformed y:  tensor([2.])\n",
      "Index:  7 Original x:  tensor([2., 2.]) Original y:  tensor([1.])\n",
      "Index:  7 Transformed x:  tensor([3., 3.]) Transformed y:  tensor([2.])\n",
      "Index:  8 Original x:  tensor([2., 2.]) Original y:  tensor([1.])\n",
      "Index:  8 Transformed x:  tensor([3., 3.]) Transformed y:  tensor([2.])\n",
      "Index:  9 Original x:  tensor([2., 2.]) Original y:  tensor([1.])\n",
      "Index:  9 Transformed x:  tensor([3., 3.]) Transformed y:  tensor([2.])\n"
     ]
    }
   ],
   "source": [
    "#Use loop to print out first 10 elements in dataset\n",
    "\n",
    "for i in range(10):\n",
    "    x, y = data_set[i]\n",
    "    print(\"Index: \", i, \"Original x: \", x, \"Original y: \", y)\n",
    "    x_, y_ = cust_data_set[i]\n",
    "    print(\"Index: \", i, \"Transformed x: \", x_, \"Transformed y: \", y_)"
   ]
  },
  {
   "cell_type": "code",
   "execution_count": 33,
   "metadata": {},
   "outputs": [
    {
     "name": "stdout",
     "output_type": "stream",
     "text": [
      "Index:  0 Transformed x:  tensor([4., 4.]) Transformed y:  tensor([10.])\n",
      "Index:  1 Transformed x:  tensor([4., 4.]) Transformed y:  tensor([10.])\n",
      "Index:  2 Transformed x:  tensor([4., 4.]) Transformed y:  tensor([10.])\n"
     ]
    }
   ],
   "source": [
    "# Construct your own my_add_mult transform. \n",
    "#Apply my_add_mult on a new toy_set object. \n",
    "#Print out the first three elements from the transformed dataset.\n",
    "\n",
    "class my_add_mult(object):\n",
    "    def __init__(self, add = 2, mul = 10):\n",
    "        self.add = add\n",
    "        self.mul = mul\n",
    "        \n",
    "    def __call__(self, sample):\n",
    "        x = sample[0]\n",
    "        y = sample[1]\n",
    "        \n",
    "        x = x + self.add\n",
    "        y = y * self.mul\n",
    "        sample = x, y\n",
    "        \n",
    "        return sample\n",
    "    \n",
    "    \n",
    "    \n",
    "my_dataset = toy_set(transform = my_add_mult())\n",
    "for i in range(3):\n",
    "    x_, y_ = my_dataset[i]\n",
    "    print(\"Index: \", i, \"Transformed x: \", x_, \"Transformed y: \", y_)"
   ]
  },
  {
   "cell_type": "code",
   "execution_count": 34,
   "metadata": {},
   "outputs": [],
   "source": [
    "#Compose"
   ]
  },
  {
   "cell_type": "code",
   "execution_count": 35,
   "metadata": {},
   "outputs": [],
   "source": [
    "from torchvision import transforms"
   ]
  },
  {
   "cell_type": "code",
   "execution_count": 36,
   "metadata": {},
   "outputs": [],
   "source": [
    "#Create transform class mult\n",
    "\n",
    "class mult(object):\n",
    "    #Constructor\n",
    "    def __init__(self, mul = 100):\n",
    "        self.mul = mul\n",
    "        \n",
    "    #Executor\n",
    "    def __call__(self, sample):\n",
    "        x = sample[0]\n",
    "        y = sample[1]\n",
    "        \n",
    "        x = x * self.mul\n",
    "        y = y * self.mul\n",
    "        sample = x, y\n",
    "        \n",
    "        return sample"
   ]
  },
  {
   "cell_type": "code",
   "execution_count": 37,
   "metadata": {},
   "outputs": [
    {
     "name": "stdout",
     "output_type": "stream",
     "text": [
      "The combination of transforms (Compose):  Compose(\n",
      "    <__main__.add_mult object at 0x7fd8bd906b70>\n",
      "    <__main__.mult object at 0x7fd8bd534048>\n",
      ")\n"
     ]
    }
   ],
   "source": [
    "# Combine add_mult() and mult()\n",
    "\n",
    "data_transform = transforms.Compose([add_mult(), mult()])\n",
    "print(\"The combination of transforms (Compose): \", data_transform)"
   ]
  },
  {
   "cell_type": "code",
   "execution_count": 38,
   "metadata": {},
   "outputs": [
    {
     "data": {
      "text/plain": [
       "(tensor([300., 300.]), tensor([200.]))"
      ]
     },
     "execution_count": 38,
     "metadata": {},
     "output_type": "execute_result"
    }
   ],
   "source": [
    "data_transform(data_set[0])"
   ]
  },
  {
   "cell_type": "code",
   "execution_count": 39,
   "metadata": {},
   "outputs": [
    {
     "name": "stdout",
     "output_type": "stream",
     "text": [
      "Original x: tensor([2., 2.]) Original y:  tensor([1.])\n",
      "Transformed x:  tensor([300., 300.]) Transformed y:  tensor([200.])\n"
     ]
    }
   ],
   "source": [
    "x, y = data_set[0]\n",
    "x_, y_ = data_transform(data_set[0])\n",
    "\n",
    "print(\"Original x:\", x, \"Original y: \", y)\n",
    "print(\"Transformed x: \", x_, \"Transformed y: \", y_)"
   ]
  },
  {
   "cell_type": "code",
   "execution_count": 42,
   "metadata": {},
   "outputs": [],
   "source": [
    "# Create a new toy_set object with compose object as transform\n",
    "\n",
    "compose_data_set = toy_set(transform = data_transform)"
   ]
  },
  {
   "cell_type": "code",
   "execution_count": 43,
   "metadata": {},
   "outputs": [
    {
     "name": "stdout",
     "output_type": "stream",
     "text": [
      "Index:  0 Original x:  tensor([2., 2.]) Original y:  tensor([1.])\n",
      "Index:  0 Original x:  tensor([3., 3.]) Original y:  tensor([2.])\n",
      "Index:  0 Original x:  tensor([300., 300.]) Original y:  tensor([200.])\n",
      "Index:  1 Original x:  tensor([2., 2.]) Original y:  tensor([1.])\n",
      "Index:  1 Original x:  tensor([3., 3.]) Original y:  tensor([2.])\n",
      "Index:  1 Original x:  tensor([300., 300.]) Original y:  tensor([200.])\n",
      "Index:  2 Original x:  tensor([2., 2.]) Original y:  tensor([1.])\n",
      "Index:  2 Original x:  tensor([3., 3.]) Original y:  tensor([2.])\n",
      "Index:  2 Original x:  tensor([300., 300.]) Original y:  tensor([200.])\n"
     ]
    }
   ],
   "source": [
    "for i in range(3):\n",
    "    x, y = data_set[i]\n",
    "    print('Index: ', i, 'Original x: ', x, 'Original y: ', y)\n",
    "    x_, y_ = cust_data_set[i]\n",
    "    print('Index: ', i, 'Original x: ', x_, 'Original y: ', y_)\n",
    "    x_co, y_co = compose_data_set[i]\n",
    "    print('Index: ', i, 'Original x: ', x_co, 'Original y: ', y_co)\n",
    "\n"
   ]
  },
  {
   "cell_type": "code",
   "execution_count": 44,
   "metadata": {},
   "outputs": [
    {
     "name": "stdout",
     "output_type": "stream",
     "text": [
      "Index:  0 Transformed x:  tensor([201., 201.]) Transformed y:  tensor([200.])\n",
      "Index:  1 Transformed x:  tensor([201., 201.]) Transformed y:  tensor([200.])\n",
      "Index:  2 Transformed x:  tensor([201., 201.]) Transformed y:  tensor([200.])\n"
     ]
    }
   ],
   "source": [
    "# Make a compose as mult() execute first and then add_mult(). \n",
    "#Apply the compose on toy_set dataset. \n",
    "#Print out the first 3 elements in the transformed dataset.\n",
    "\n",
    "my_compose = transforms.Compose([mult(), add_mult()])\n",
    "my_transformed_dataset = toy_set(transform = my_compose)\n",
    "\n",
    "for i in range(3):\n",
    "    x, y = my_transformed_dataset[i]\n",
    "    print(\"Index: \", i, \"Transformed x: \", x, \"Transformed y: \", y)"
   ]
  },
  {
   "cell_type": "code",
   "execution_count": null,
   "metadata": {},
   "outputs": [],
   "source": []
  }
 ],
 "metadata": {
  "kernelspec": {
   "display_name": "Python",
   "language": "python",
   "name": "conda-env-python-py"
  },
  "language_info": {
   "codemirror_mode": {
    "name": "ipython",
    "version": 3
   },
   "file_extension": ".py",
   "mimetype": "text/x-python",
   "name": "python",
   "nbconvert_exporter": "python",
   "pygments_lexer": "ipython3",
   "version": "3.6.11"
  }
 },
 "nbformat": 4,
 "nbformat_minor": 4
}
