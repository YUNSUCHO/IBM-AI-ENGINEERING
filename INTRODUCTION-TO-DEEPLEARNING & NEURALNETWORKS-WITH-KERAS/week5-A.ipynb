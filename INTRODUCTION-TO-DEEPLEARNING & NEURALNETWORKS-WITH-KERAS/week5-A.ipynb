{
 "cells": [
  {
   "cell_type": "code",
   "execution_count": 1,
   "metadata": {},
   "outputs": [
    {
     "name": "stderr",
     "output_type": "stream",
     "text": [
      "Using TensorFlow backend.\n",
      "/home/jupyterlab/conda/envs/python/lib/python3.6/site-packages/tensorflow/python/framework/dtypes.py:519: FutureWarning: Passing (type, 1) or '1type' as a synonym of type is deprecated; in a future version of numpy, it will be understood as (type, (1,)) / '(1,)type'.\n",
      "  _np_qint8 = np.dtype([(\"qint8\", np.int8, 1)])\n",
      "/home/jupyterlab/conda/envs/python/lib/python3.6/site-packages/tensorflow/python/framework/dtypes.py:520: FutureWarning: Passing (type, 1) or '1type' as a synonym of type is deprecated; in a future version of numpy, it will be understood as (type, (1,)) / '(1,)type'.\n",
      "  _np_quint8 = np.dtype([(\"quint8\", np.uint8, 1)])\n",
      "/home/jupyterlab/conda/envs/python/lib/python3.6/site-packages/tensorflow/python/framework/dtypes.py:521: FutureWarning: Passing (type, 1) or '1type' as a synonym of type is deprecated; in a future version of numpy, it will be understood as (type, (1,)) / '(1,)type'.\n",
      "  _np_qint16 = np.dtype([(\"qint16\", np.int16, 1)])\n",
      "/home/jupyterlab/conda/envs/python/lib/python3.6/site-packages/tensorflow/python/framework/dtypes.py:522: FutureWarning: Passing (type, 1) or '1type' as a synonym of type is deprecated; in a future version of numpy, it will be understood as (type, (1,)) / '(1,)type'.\n",
      "  _np_quint16 = np.dtype([(\"quint16\", np.uint16, 1)])\n",
      "/home/jupyterlab/conda/envs/python/lib/python3.6/site-packages/tensorflow/python/framework/dtypes.py:523: FutureWarning: Passing (type, 1) or '1type' as a synonym of type is deprecated; in a future version of numpy, it will be understood as (type, (1,)) / '(1,)type'.\n",
      "  _np_qint32 = np.dtype([(\"qint32\", np.int32, 1)])\n",
      "/home/jupyterlab/conda/envs/python/lib/python3.6/site-packages/tensorflow/python/framework/dtypes.py:528: FutureWarning: Passing (type, 1) or '1type' as a synonym of type is deprecated; in a future version of numpy, it will be understood as (type, (1,)) / '(1,)type'.\n",
      "  np_resource = np.dtype([(\"resource\", np.ubyte, 1)])\n"
     ]
    },
    {
     "data": {
      "text/html": [
       "<div>\n",
       "<style scoped>\n",
       "    .dataframe tbody tr th:only-of-type {\n",
       "        vertical-align: middle;\n",
       "    }\n",
       "\n",
       "    .dataframe tbody tr th {\n",
       "        vertical-align: top;\n",
       "    }\n",
       "\n",
       "    .dataframe thead th {\n",
       "        text-align: right;\n",
       "    }\n",
       "</style>\n",
       "<table border=\"1\" class=\"dataframe\">\n",
       "  <thead>\n",
       "    <tr style=\"text-align: right;\">\n",
       "      <th></th>\n",
       "      <th>Cement</th>\n",
       "      <th>Blast Furnace Slag</th>\n",
       "      <th>Fly Ash</th>\n",
       "      <th>Water</th>\n",
       "      <th>Superplasticizer</th>\n",
       "      <th>Coarse Aggregate</th>\n",
       "      <th>Fine Aggregate</th>\n",
       "      <th>Age</th>\n",
       "      <th>Strength</th>\n",
       "    </tr>\n",
       "  </thead>\n",
       "  <tbody>\n",
       "    <tr>\n",
       "      <th>0</th>\n",
       "      <td>540.0</td>\n",
       "      <td>0.0</td>\n",
       "      <td>0.0</td>\n",
       "      <td>162.0</td>\n",
       "      <td>2.5</td>\n",
       "      <td>1040.0</td>\n",
       "      <td>676.0</td>\n",
       "      <td>28</td>\n",
       "      <td>79.99</td>\n",
       "    </tr>\n",
       "    <tr>\n",
       "      <th>1</th>\n",
       "      <td>540.0</td>\n",
       "      <td>0.0</td>\n",
       "      <td>0.0</td>\n",
       "      <td>162.0</td>\n",
       "      <td>2.5</td>\n",
       "      <td>1055.0</td>\n",
       "      <td>676.0</td>\n",
       "      <td>28</td>\n",
       "      <td>61.89</td>\n",
       "    </tr>\n",
       "    <tr>\n",
       "      <th>2</th>\n",
       "      <td>332.5</td>\n",
       "      <td>142.5</td>\n",
       "      <td>0.0</td>\n",
       "      <td>228.0</td>\n",
       "      <td>0.0</td>\n",
       "      <td>932.0</td>\n",
       "      <td>594.0</td>\n",
       "      <td>270</td>\n",
       "      <td>40.27</td>\n",
       "    </tr>\n",
       "    <tr>\n",
       "      <th>3</th>\n",
       "      <td>332.5</td>\n",
       "      <td>142.5</td>\n",
       "      <td>0.0</td>\n",
       "      <td>228.0</td>\n",
       "      <td>0.0</td>\n",
       "      <td>932.0</td>\n",
       "      <td>594.0</td>\n",
       "      <td>365</td>\n",
       "      <td>41.05</td>\n",
       "    </tr>\n",
       "    <tr>\n",
       "      <th>4</th>\n",
       "      <td>198.6</td>\n",
       "      <td>132.4</td>\n",
       "      <td>0.0</td>\n",
       "      <td>192.0</td>\n",
       "      <td>0.0</td>\n",
       "      <td>978.4</td>\n",
       "      <td>825.5</td>\n",
       "      <td>360</td>\n",
       "      <td>44.30</td>\n",
       "    </tr>\n",
       "  </tbody>\n",
       "</table>\n",
       "</div>"
      ],
      "text/plain": [
       "   Cement  Blast Furnace Slag  Fly Ash  Water  Superplasticizer  \\\n",
       "0   540.0                 0.0      0.0  162.0               2.5   \n",
       "1   540.0                 0.0      0.0  162.0               2.5   \n",
       "2   332.5               142.5      0.0  228.0               0.0   \n",
       "3   332.5               142.5      0.0  228.0               0.0   \n",
       "4   198.6               132.4      0.0  192.0               0.0   \n",
       "\n",
       "   Coarse Aggregate  Fine Aggregate  Age  Strength  \n",
       "0            1040.0           676.0   28     79.99  \n",
       "1            1055.0           676.0   28     61.89  \n",
       "2             932.0           594.0  270     40.27  \n",
       "3             932.0           594.0  365     41.05  \n",
       "4             978.4           825.5  360     44.30  "
      ]
     },
     "execution_count": 1,
     "metadata": {},
     "output_type": "execute_result"
    }
   ],
   "source": [
    "import pandas as pd\n",
    "import numpy as np\n",
    "import keras\n",
    "\n",
    "from keras.models import Sequential\n",
    "from keras.layers import Dense\n",
    "\n",
    "# load the concrete_data dataset\n",
    "concrete_data = pd.read_csv('https://cocl.us/concrete_data')\n",
    "\n",
    "# verify that the data was loaded correctly\n",
    "concrete_data.head()"
   ]
  },
  {
   "cell_type": "code",
   "execution_count": 2,
   "metadata": {},
   "outputs": [],
   "source": [
    "# split the concrete_data set into predictors (inputs) and target (output)\n",
    "predictors = concrete_data.drop(columns=['Strength'])\n",
    "target = concrete_data['Strength']\n",
    "\n",
    "n_cols = predictors.shape[1]"
   ]
  },
  {
   "cell_type": "code",
   "execution_count": 3,
   "metadata": {},
   "outputs": [],
   "source": [
    "def regression_model():\n",
    "    model = Sequential()\n",
    "    model.add(Dense(10, activation = 'relu', input_shape=(n_cols,)))\n",
    "    model.add(Dense(1)) ##\n",
    "    model.compile(optimizer = 'adam', loss = 'mean_squared_error')\n",
    "    \n",
    "    return model\n",
    "\n",
    "model = regression_model()"
   ]
  },
  {
   "cell_type": "code",
   "execution_count": 4,
   "metadata": {},
   "outputs": [
    {
     "data": {
      "text/plain": [
       "(721, 8)"
      ]
     },
     "execution_count": 4,
     "metadata": {},
     "output_type": "execute_result"
    }
   ],
   "source": [
    "from sklearn.model_selection import train_test_split\n",
    "\n",
    "predictors_train, predictors_test, target_train, target_test = train_test_split(\n",
    "    predictors, target, test_size = 0.3, random_state = 71)\n",
    "\n",
    "predictors_train.shape"
   ]
  },
  {
   "cell_type": "code",
   "execution_count": 5,
   "metadata": {},
   "outputs": [
    {
     "name": "stdout",
     "output_type": "stream",
     "text": [
      "Epoch 1/50\n",
      "721/721 [==============================] - 1s 911us/step - loss: 5799.5647\n",
      "Epoch 2/50\n",
      "721/721 [==============================] - 0s 334us/step - loss: 2115.8668\n",
      "Epoch 3/50\n",
      "721/721 [==============================] - 0s 357us/step - loss: 1553.0098\n",
      "Epoch 4/50\n",
      "721/721 [==============================] - 0s 386us/step - loss: 1208.6536\n",
      "Epoch 5/50\n",
      "721/721 [==============================] - 0s 331us/step - loss: 1021.0584\n",
      "Epoch 6/50\n",
      "721/721 [==============================] - 0s 333us/step - loss: 879.9599\n",
      "Epoch 7/50\n",
      "721/721 [==============================] - 0s 309us/step - loss: 789.3897\n",
      "Epoch 8/50\n",
      "721/721 [==============================] - 0s 357us/step - loss: 728.3273\n",
      "Epoch 9/50\n",
      "721/721 [==============================] - 0s 307us/step - loss: 678.0558\n",
      "Epoch 10/50\n",
      "721/721 [==============================] - 0s 331us/step - loss: 628.4036\n",
      "Epoch 11/50\n",
      "721/721 [==============================] - 0s 412us/step - loss: 582.2185\n",
      "Epoch 12/50\n",
      "721/721 [==============================] - 0s 307us/step - loss: 543.6316\n",
      "Epoch 13/50\n",
      "721/721 [==============================] - 0s 358us/step - loss: 502.8858\n",
      "Epoch 14/50\n",
      "721/721 [==============================] - 0s 386us/step - loss: 463.6241\n",
      "Epoch 15/50\n",
      "721/721 [==============================] - 0s 418us/step - loss: 430.6494\n",
      "Epoch 16/50\n",
      "721/721 [==============================] - 0s 412us/step - loss: 404.2510\n",
      "Epoch 17/50\n",
      "721/721 [==============================] - 0s 356us/step - loss: 381.8014\n",
      "Epoch 18/50\n",
      "721/721 [==============================] - 0s 357us/step - loss: 369.1932\n",
      "Epoch 19/50\n",
      "721/721 [==============================] - 0s 391us/step - loss: 347.5076\n",
      "Epoch 20/50\n",
      "721/721 [==============================] - 0s 361us/step - loss: 333.0890\n",
      "Epoch 21/50\n",
      "721/721 [==============================] - 0s 307us/step - loss: 322.0936\n",
      "Epoch 22/50\n",
      "721/721 [==============================] - 0s 330us/step - loss: 311.2552\n",
      "Epoch 23/50\n",
      "721/721 [==============================] - 0s 336us/step - loss: 302.2024\n",
      "Epoch 24/50\n",
      "721/721 [==============================] - 1s 752us/step - loss: 296.2971\n",
      "Epoch 25/50\n",
      "721/721 [==============================] - 0s 331us/step - loss: 285.1881\n",
      "Epoch 26/50\n",
      "721/721 [==============================] - 0s 329us/step - loss: 278.2034\n",
      "Epoch 27/50\n",
      "721/721 [==============================] - 0s 331us/step - loss: 270.8789\n",
      "Epoch 28/50\n",
      "721/721 [==============================] - 0s 306us/step - loss: 265.5463\n",
      "Epoch 29/50\n",
      "721/721 [==============================] - 0s 306us/step - loss: 257.9578\n",
      "Epoch 30/50\n",
      "721/721 [==============================] - 0s 303us/step - loss: 252.1247\n",
      "Epoch 31/50\n",
      "721/721 [==============================] - 0s 308us/step - loss: 244.9627\n",
      "Epoch 32/50\n",
      "721/721 [==============================] - 0s 440us/step - loss: 240.4044\n",
      "Epoch 33/50\n",
      "721/721 [==============================] - 0s 497us/step - loss: 234.9770\n",
      "Epoch 34/50\n",
      "721/721 [==============================] - 0s 359us/step - loss: 227.4505\n",
      "Epoch 35/50\n",
      "721/721 [==============================] - 0s 361us/step - loss: 222.5148\n",
      "Epoch 36/50\n",
      "721/721 [==============================] - 0s 444us/step - loss: 216.9460\n",
      "Epoch 37/50\n",
      "721/721 [==============================] - 0s 361us/step - loss: 210.1257\n",
      "Epoch 38/50\n",
      "721/721 [==============================] - 0s 419us/step - loss: 205.1417\n",
      "Epoch 39/50\n",
      "721/721 [==============================] - 0s 333us/step - loss: 200.4337\n",
      "Epoch 40/50\n",
      "721/721 [==============================] - 0s 353us/step - loss: 202.8946\n",
      "Epoch 41/50\n",
      "721/721 [==============================] - 0s 386us/step - loss: 196.0410\n",
      "Epoch 42/50\n",
      "721/721 [==============================] - 0s 332us/step - loss: 188.5900\n",
      "Epoch 43/50\n",
      "721/721 [==============================] - 0s 331us/step - loss: 184.2642\n",
      "Epoch 44/50\n",
      "721/721 [==============================] - 0s 303us/step - loss: 181.1978\n",
      "Epoch 45/50\n",
      "721/721 [==============================] - 0s 333us/step - loss: 177.9244\n",
      "Epoch 46/50\n",
      "721/721 [==============================] - 0s 304us/step - loss: 176.0565\n",
      "Epoch 47/50\n",
      "721/721 [==============================] - 0s 333us/step - loss: 171.3092\n",
      "Epoch 48/50\n",
      "721/721 [==============================] - 0s 302us/step - loss: 168.8299\n",
      "Epoch 49/50\n",
      "721/721 [==============================] - 0s 304us/step - loss: 169.7737\n",
      "Epoch 50/50\n",
      "721/721 [==============================] - 0s 306us/step - loss: 165.6933\n"
     ]
    },
    {
     "data": {
      "text/plain": [
       "<keras.callbacks.History at 0x7f53a05dbcf8>"
      ]
     },
     "execution_count": 5,
     "metadata": {},
     "output_type": "execute_result"
    }
   ],
   "source": [
    "model.fit(predictors_train, target_train, epochs=50)"
   ]
  },
  {
   "cell_type": "code",
   "execution_count": 6,
   "metadata": {},
   "outputs": [],
   "source": [
    "from sklearn.metrics import mean_squared_error"
   ]
  },
  {
   "cell_type": "code",
   "execution_count": 7,
   "metadata": {},
   "outputs": [
    {
     "name": "stdout",
     "output_type": "stream",
     "text": [
      "Mean squared error on test data is 140.737\n"
     ]
    }
   ],
   "source": [
    "predictions_test = model.predict(predictors_test)\n",
    "print(\"Mean squared error on test data is %.3f\" % \n",
    "      (mean_squared_error(target_test, predictions_test)))"
   ]
  },
  {
   "cell_type": "code",
   "execution_count": 8,
   "metadata": {},
   "outputs": [],
   "source": [
    "def evaluate_model(create_model_func, predictors, targets, epochs = 50):\n",
    "    mean_squared_errors =[]\n",
    "    for i in range(50):\n",
    "        #Road the model\n",
    "        model = create_model_func()\n",
    "        \n",
    "        #Split data into train and test\n",
    "        predictors_train, predictors_test, target_train, target_test = train_test_split(\n",
    "        predictors, target, test_size=0.3, random_state = 70)\n",
    "        \n",
    "        #Train 50 epochs\n",
    "        model.fit(predictors_train, target_train, epochs = epochs, verbose=0)\n",
    "        \n",
    "        #Measure the mse and add this to the list\n",
    "        predictions_test = model.predict(predictors_test)\n",
    "        mse = mean_squared_error(target_test, predictions_test)\n",
    "        mean_squared_errors.append(mse)\n",
    "        print('...', end='')\n",
    "    print('Done!')\n",
    "    \n",
    "    return np.mean(mean_squared_errors), np.std(mean_squared_errors)"
   ]
  },
  {
   "cell_type": "code",
   "execution_count": 9,
   "metadata": {},
   "outputs": [
    {
     "name": "stdout",
     "output_type": "stream",
     "text": [
      "......................................................................................................................................................Done!\n",
      "Mean squared errors for 50 epochs regression models : mean = 296.811, std = 249.199\n"
     ]
    }
   ],
   "source": [
    "#Evaluate the model\n",
    "mean_mse, std_mse = evaluate_model(regression_model, predictors, target)\n",
    "\n",
    "#Report mse and std\n",
    "print(\"Mean squared errors for 50 epochs regression models : mean = %.3f, std = %.3f\" \n",
    "     %(mean_mse, std_mse))"
   ]
  },
  {
   "cell_type": "code",
   "execution_count": null,
   "metadata": {},
   "outputs": [],
   "source": []
  }
 ],
 "metadata": {
  "kernelspec": {
   "display_name": "Python",
   "language": "python",
   "name": "conda-env-python-py"
  },
  "language_info": {
   "codemirror_mode": {
    "name": "ipython",
    "version": 3
   },
   "file_extension": ".py",
   "mimetype": "text/x-python",
   "name": "python",
   "nbconvert_exporter": "python",
   "pygments_lexer": "ipython3",
   "version": "3.6.11"
  }
 },
 "nbformat": 4,
 "nbformat_minor": 4
}
